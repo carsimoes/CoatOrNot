{
  "nbformat": 4,
  "nbformat_minor": 0,
  "metadata": {
    "colab": {
      "provenance": [],
      "toc_visible": true
    },
    "kernelspec": {
      "name": "python3",
      "display_name": "Python 3"
    },
    "language_info": {
      "name": "python"
    }
  },
  "cells": [
    {
      "cell_type": "code",
      "execution_count": null,
      "metadata": {
        "colab": {
          "base_uri": "https://localhost:8080/"
        },
        "id": "plVke6kqIVFI",
        "outputId": "1c825a71-3571-47d2-dbe3-0053496a7651"
      },
      "outputs": [
        {
          "output_type": "execute_result",
          "data": {
            "text/plain": [
              "array([False,  True, False,  True])"
            ]
          },
          "metadata": {},
          "execution_count": 3
        }
      ],
      "source": [
        "temperature = [[30],  [12], [14], [18], [25],  [5],  [15], [27] ]\n",
        "coat =        [False, True, True, True, False, True, True, False ]\n",
        "\n",
        "from sklearn.linear_model import LogisticRegression\n",
        "classifier = LogisticRegression()\n",
        "classifier.fit(temperature, coat)\n",
        "\n",
        "should_wear_coat = [[22], [1], [26], [15]]\n",
        "classifier.predict(should_wear_coat)\n",
        "\n",
        "\n"
      ]
    },
    {
      "cell_type": "markdown",
      "source": [
        "# Nova seção"
      ],
      "metadata": {
        "id": "8x0MSR1siuDs"
      }
    },
    {
      "cell_type": "markdown",
      "source": [],
      "metadata": {
        "id": "OUiAAhuxIqwK"
      }
    }
  ]
}