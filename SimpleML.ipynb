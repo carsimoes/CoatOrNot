temperature = [[30],  [12], [14], [18], [25],  [5],  [15], [27] ]
coat =        [False, True, True, True, False, True, True, False ]

from sklearn.linear_model import LogisticRegression
classifier = LogisticRegression()
classifier.fit(temperature, coat)

should_wear_coat = [[22], [1], [26], [15]]
classifier.predict(should_wear_coat)
